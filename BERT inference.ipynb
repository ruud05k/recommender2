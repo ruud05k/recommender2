{
 "cells": [
  {
   "cell_type": "markdown",
   "id": "9a7292d2",
   "metadata": {},
   "source": [
    "# BERT inference"
   ]
  },
  {
   "cell_type": "code",
   "execution_count": null,
   "id": "36ed17b9",
   "metadata": {},
   "outputs": [],
   "source": []
  },
  {
   "cell_type": "code",
   "execution_count": 7,
   "id": "0605b487",
   "metadata": {},
   "outputs": [
    {
     "name": "stderr",
     "output_type": "stream",
     "text": [
      "Some weights of the model checkpoint at bert-base-uncased were not used when initializing BertModel: ['cls.predictions.transform.dense.weight', 'cls.predictions.decoder.weight', 'cls.predictions.transform.LayerNorm.weight', 'cls.seq_relationship.bias', 'cls.seq_relationship.weight', 'cls.predictions.bias', 'cls.predictions.transform.LayerNorm.bias', 'cls.predictions.transform.dense.bias']\n",
      "- This IS expected if you are initializing BertModel from the checkpoint of a model trained on another task or with another architecture (e.g. initializing a BertForSequenceClassification model from a BertForPreTraining model).\n",
      "- This IS NOT expected if you are initializing BertModel from the checkpoint of a model that you expect to be exactly identical (initializing a BertForSequenceClassification model from a BertForSequenceClassification model).\n"
     ]
    },
    {
     "name": "stdout",
     "output_type": "stream",
     "text": [
      "torch.Size([1, 7, 768])\n",
      "torch.Size([1, 768])\n"
     ]
    }
   ],
   "source": [
    "import torch\n",
    "from transformers import BertModel, BertTokenizer\n",
    "\n",
    "# Load BERT tokenizer and model\n",
    "tokenizer = BertTokenizer.from_pretrained('bert-base-uncased')\n",
    "bert_model = BertModel.from_pretrained('bert-base-uncased')\n",
    "\n",
    "# Function to get embeddings for each token in the input query\n",
    "def get_token_embeddings(query):\n",
    "    #inputs = tokenizer(query, return_tensors='pt', truncation=True, padding='max_length', max_length=128)\n",
    "    inputs = tokenizer(query, return_tensors='pt', truncation=True, padding=False, max_length=128)\n",
    "    \n",
    "    outputs = bert_model(**inputs)\n",
    "    # outputs.last_hidden_state contains the embeddings for all tokens\n",
    "    token_embeddings = outputs.last_hidden_state\n",
    "    return token_embeddings\n",
    "\n",
    "# Example query\n",
    "query = \"Find books about deep learning\"\n",
    "token_embeddings = get_token_embeddings(query)\n",
    "\n",
    "print(token_embeddings.shape)  # Shape: (batch_size, sequence_length, hidden_size)\n",
    "\n",
    "# To get the [CLS] token's embedding\n",
    "cls_embedding = token_embeddings[:, 0, :]\n",
    "print(cls_embedding.shape)  # Shape: (batch_size, hidden_size)\n"
   ]
  },
  {
   "cell_type": "code",
   "execution_count": 25,
   "id": "c45c6433",
   "metadata": {},
   "outputs": [
    {
     "name": "stdout",
     "output_type": "stream",
     "text": [
      "torch.Size([1, 7, 768])\n"
     ]
    }
   ],
   "source": [
    "print(outputs.last_hidden_state.shape)"
   ]
  },
  {
   "cell_type": "code",
   "execution_count": 8,
   "id": "81e7f7e3",
   "metadata": {},
   "outputs": [
    {
     "data": {
      "text/plain": [
       "torch.Size([1, 768])"
      ]
     },
     "execution_count": 8,
     "metadata": {},
     "output_type": "execute_result"
    }
   ],
   "source": [
    "cls_embedding.shape"
   ]
  },
  {
   "cell_type": "code",
   "execution_count": 10,
   "id": "a0fea622",
   "metadata": {},
   "outputs": [
    {
     "data": {
      "text/plain": [
       "torch.Size([1, 7, 768])"
      ]
     },
     "execution_count": 10,
     "metadata": {},
     "output_type": "execute_result"
    }
   ],
   "source": [
    "token_embeddings.shape"
   ]
  },
  {
   "cell_type": "code",
   "execution_count": 16,
   "id": "c40471d1",
   "metadata": {},
   "outputs": [
    {
     "name": "stdout",
     "output_type": "stream",
     "text": [
      "tensor([ 0.1819,  0.7634,  0.3809, -0.1409,  1.0556, -1.1763,  0.1290,  0.3763,\n",
      "         0.4035,  0.5729], grad_fn=<SliceBackward0>)\n",
      "tensor([ 0.3422,  0.6524,  0.4581, -0.1221,  1.0180, -1.2297,  0.0068,  0.5418,\n",
      "         0.3652,  0.4390], grad_fn=<SliceBackward0>)\n"
     ]
    }
   ],
   "source": [
    "query = \"Find books about deep learning\"\n",
    "token_embeddings = get_token_embeddings(query)\n",
    "\n",
    "print(token_embeddings[0, 2, :10])\n",
    "\n",
    "query = \"Find books about deep water\"\n",
    "token_embeddings = get_token_embeddings(query)\n",
    "\n",
    "print(token_embeddings[0, 2, :10])\n"
   ]
  },
  {
   "cell_type": "code",
   "execution_count": null,
   "id": "fcd1522d",
   "metadata": {},
   "outputs": [],
   "source": []
  }
 ],
 "metadata": {
  "kernelspec": {
   "display_name": "Python 3 (ipykernel)",
   "language": "python",
   "name": "python3"
  },
  "language_info": {
   "codemirror_mode": {
    "name": "ipython",
    "version": 3
   },
   "file_extension": ".py",
   "mimetype": "text/x-python",
   "name": "python",
   "nbconvert_exporter": "python",
   "pygments_lexer": "ipython3",
   "version": "3.7.12"
  }
 },
 "nbformat": 4,
 "nbformat_minor": 5
}
